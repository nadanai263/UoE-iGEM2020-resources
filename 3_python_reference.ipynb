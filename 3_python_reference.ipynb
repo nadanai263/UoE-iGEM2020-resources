{
 "cells": [
  {
   "cell_type": "code",
   "execution_count": 1,
   "metadata": {},
   "outputs": [],
   "source": [
    "%matplotlib inline\n",
    "import matplotlib.pyplot as plt\n",
    "import numpy as np\n",
    "import pandas as pd\n",
    "from scipy.integrate import odeint"
   ]
  },
  {
   "cell_type": "code",
   "execution_count": 2,
   "metadata": {
    "code_folding": []
   },
   "outputs": [
    {
     "data": {
      "text/html": [
       "<div>\n",
       "<style scoped>\n",
       "    .dataframe tbody tr th:only-of-type {\n",
       "        vertical-align: middle;\n",
       "    }\n",
       "\n",
       "    .dataframe tbody tr th {\n",
       "        vertical-align: top;\n",
       "    }\n",
       "\n",
       "    .dataframe thead th {\n",
       "        text-align: right;\n",
       "    }\n",
       "</style>\n",
       "<table border=\"1\" class=\"dataframe\">\n",
       "  <thead>\n",
       "    <tr style=\"text-align: right;\">\n",
       "      <th></th>\n",
       "      <th>0</th>\n",
       "      <th>1</th>\n",
       "      <th>2</th>\n",
       "      <th>3</th>\n",
       "      <th>4</th>\n",
       "      <th>5</th>\n",
       "      <th>6</th>\n",
       "      <th>7</th>\n",
       "      <th>8</th>\n",
       "      <th>9</th>\n",
       "    </tr>\n",
       "  </thead>\n",
       "  <tbody>\n",
       "    <tr>\n",
       "      <td>0</td>\n",
       "      <td>-0.388173</td>\n",
       "      <td>-0.147401</td>\n",
       "      <td>0.172834</td>\n",
       "      <td>0.095223</td>\n",
       "      <td>0.986469</td>\n",
       "      <td>1.878170</td>\n",
       "      <td>1.297024</td>\n",
       "      <td>-0.414780</td>\n",
       "      <td>-0.871941</td>\n",
       "      <td>0.902043</td>\n",
       "    </tr>\n",
       "    <tr>\n",
       "      <td>1</td>\n",
       "      <td>-0.717954</td>\n",
       "      <td>-1.387479</td>\n",
       "      <td>0.256310</td>\n",
       "      <td>-0.642718</td>\n",
       "      <td>0.967369</td>\n",
       "      <td>0.527781</td>\n",
       "      <td>1.147697</td>\n",
       "      <td>-0.628699</td>\n",
       "      <td>-0.933363</td>\n",
       "      <td>-0.537832</td>\n",
       "    </tr>\n",
       "    <tr>\n",
       "      <td>2</td>\n",
       "      <td>-0.721229</td>\n",
       "      <td>-0.868733</td>\n",
       "      <td>0.901863</td>\n",
       "      <td>-0.100104</td>\n",
       "      <td>0.013922</td>\n",
       "      <td>1.025115</td>\n",
       "      <td>-0.494322</td>\n",
       "      <td>0.396235</td>\n",
       "      <td>-1.668517</td>\n",
       "      <td>1.825950</td>\n",
       "    </tr>\n",
       "    <tr>\n",
       "      <td>3</td>\n",
       "      <td>-2.477050</td>\n",
       "      <td>0.821981</td>\n",
       "      <td>0.050652</td>\n",
       "      <td>0.767555</td>\n",
       "      <td>-2.244635</td>\n",
       "      <td>-0.617112</td>\n",
       "      <td>0.923344</td>\n",
       "      <td>0.786957</td>\n",
       "      <td>0.833512</td>\n",
       "      <td>0.002643</td>\n",
       "    </tr>\n",
       "    <tr>\n",
       "      <td>4</td>\n",
       "      <td>0.378843</td>\n",
       "      <td>2.072729</td>\n",
       "      <td>-0.046999</td>\n",
       "      <td>-0.320351</td>\n",
       "      <td>-0.648165</td>\n",
       "      <td>-0.497145</td>\n",
       "      <td>-1.711175</td>\n",
       "      <td>0.224682</td>\n",
       "      <td>-0.329579</td>\n",
       "      <td>0.324459</td>\n",
       "    </tr>\n",
       "    <tr>\n",
       "      <td>5</td>\n",
       "      <td>0.318052</td>\n",
       "      <td>-0.268321</td>\n",
       "      <td>0.360677</td>\n",
       "      <td>-0.054359</td>\n",
       "      <td>-0.323788</td>\n",
       "      <td>-1.507966</td>\n",
       "      <td>-2.144364</td>\n",
       "      <td>-0.125828</td>\n",
       "      <td>2.583950</td>\n",
       "      <td>-0.881741</td>\n",
       "    </tr>\n",
       "    <tr>\n",
       "      <td>6</td>\n",
       "      <td>-1.082962</td>\n",
       "      <td>-0.679227</td>\n",
       "      <td>-0.678381</td>\n",
       "      <td>0.218769</td>\n",
       "      <td>-0.726866</td>\n",
       "      <td>-0.429580</td>\n",
       "      <td>-0.366159</td>\n",
       "      <td>1.504197</td>\n",
       "      <td>-0.691899</td>\n",
       "      <td>0.711019</td>\n",
       "    </tr>\n",
       "    <tr>\n",
       "      <td>7</td>\n",
       "      <td>0.765638</td>\n",
       "      <td>0.204376</td>\n",
       "      <td>0.795461</td>\n",
       "      <td>0.831841</td>\n",
       "      <td>1.248416</td>\n",
       "      <td>-0.074779</td>\n",
       "      <td>0.018754</td>\n",
       "      <td>-0.280192</td>\n",
       "      <td>-0.784082</td>\n",
       "      <td>-0.463033</td>\n",
       "    </tr>\n",
       "    <tr>\n",
       "      <td>8</td>\n",
       "      <td>0.078265</td>\n",
       "      <td>-0.272536</td>\n",
       "      <td>0.985487</td>\n",
       "      <td>-1.159446</td>\n",
       "      <td>-0.374033</td>\n",
       "      <td>-1.218967</td>\n",
       "      <td>3.523711</td>\n",
       "      <td>-0.273097</td>\n",
       "      <td>-1.341878</td>\n",
       "      <td>1.208038</td>\n",
       "    </tr>\n",
       "    <tr>\n",
       "      <td>9</td>\n",
       "      <td>-0.522868</td>\n",
       "      <td>-1.090225</td>\n",
       "      <td>1.303854</td>\n",
       "      <td>1.097022</td>\n",
       "      <td>-1.916676</td>\n",
       "      <td>0.253762</td>\n",
       "      <td>1.814570</td>\n",
       "      <td>-0.019124</td>\n",
       "      <td>-0.106335</td>\n",
       "      <td>-1.288708</td>\n",
       "    </tr>\n",
       "  </tbody>\n",
       "</table>\n",
       "</div>"
      ],
      "text/plain": [
       "          0         1         2         3         4         5         6  \\\n",
       "0 -0.388173 -0.147401  0.172834  0.095223  0.986469  1.878170  1.297024   \n",
       "1 -0.717954 -1.387479  0.256310 -0.642718  0.967369  0.527781  1.147697   \n",
       "2 -0.721229 -0.868733  0.901863 -0.100104  0.013922  1.025115 -0.494322   \n",
       "3 -2.477050  0.821981  0.050652  0.767555 -2.244635 -0.617112  0.923344   \n",
       "4  0.378843  2.072729 -0.046999 -0.320351 -0.648165 -0.497145 -1.711175   \n",
       "5  0.318052 -0.268321  0.360677 -0.054359 -0.323788 -1.507966 -2.144364   \n",
       "6 -1.082962 -0.679227 -0.678381  0.218769 -0.726866 -0.429580 -0.366159   \n",
       "7  0.765638  0.204376  0.795461  0.831841  1.248416 -0.074779  0.018754   \n",
       "8  0.078265 -0.272536  0.985487 -1.159446 -0.374033 -1.218967  3.523711   \n",
       "9 -0.522868 -1.090225  1.303854  1.097022 -1.916676  0.253762  1.814570   \n",
       "\n",
       "          7         8         9  \n",
       "0 -0.414780 -0.871941  0.902043  \n",
       "1 -0.628699 -0.933363 -0.537832  \n",
       "2  0.396235 -1.668517  1.825950  \n",
       "3  0.786957  0.833512  0.002643  \n",
       "4  0.224682 -0.329579  0.324459  \n",
       "5 -0.125828  2.583950 -0.881741  \n",
       "6  1.504197 -0.691899  0.711019  \n",
       "7 -0.280192 -0.784082 -0.463033  \n",
       "8 -0.273097 -1.341878  1.208038  \n",
       "9 -0.019124 -0.106335 -1.288708  "
      ]
     },
     "execution_count": 2,
     "metadata": {},
     "output_type": "execute_result"
    }
   ],
   "source": [
    "# 1. Working with files\n",
    "\n",
    "# 1.1 Read a data file\n",
    "\n",
    "# First set up the paths\n",
    "PATH = './example_datafiles/'\n",
    "FILE_IN = 'data1.csv'\n",
    "\n",
    "# Then read this to a dataframe\n",
    "df = pd.read_csv(PATH+FILE_IN, index_col=False)\n",
    "\n",
    "# 1.2 Write a data file\n",
    "FILE_OUT = 'data2.csv'\n",
    "df.to_csv(PATH+FILE_OUT, index=None)\n",
    "\n",
    "# Show the dataframe\n",
    "df"
   ]
  },
  {
   "cell_type": "code",
   "execution_count": 3,
   "metadata": {
    "code_folding": []
   },
   "outputs": [
    {
     "data": {
      "text/plain": [
       "0   -0.388173\n",
       "1   -0.717954\n",
       "2   -0.721229\n",
       "3   -2.477050\n",
       "4    0.378843\n",
       "5    0.318052\n",
       "6   -1.082962\n",
       "7    0.765638\n",
       "8    0.078265\n",
       "9   -0.522868\n",
       "Name: 0, dtype: float64"
      ]
     },
     "execution_count": 3,
     "metadata": {},
     "output_type": "execute_result"
    }
   ],
   "source": [
    "# 2. Dataframes\n",
    "\n",
    "# Dataframes are indexed like this: [row,column]\n",
    "# The colon (:) operator is used to get ranges of elements\n",
    "# In python, index values go from zero <== very important.\n",
    "\n",
    "# Examples\n",
    "# 2.1 The first column\n",
    "df.iloc[:,0]"
   ]
  },
  {
   "cell_type": "code",
   "execution_count": 4,
   "metadata": {
    "code_folding": []
   },
   "outputs": [
    {
     "data": {
      "text/plain": [
       "0   -0.388173\n",
       "1   -0.147401\n",
       "2    0.172834\n",
       "3    0.095223\n",
       "4    0.986469\n",
       "5    1.878170\n",
       "6    1.297024\n",
       "7   -0.414780\n",
       "8   -0.871941\n",
       "9    0.902043\n",
       "Name: 0, dtype: float64"
      ]
     },
     "execution_count": 4,
     "metadata": {},
     "output_type": "execute_result"
    }
   ],
   "source": [
    "# 2.2 The first row\n",
    "df.iloc[0,:]"
   ]
  },
  {
   "cell_type": "code",
   "execution_count": 5,
   "metadata": {
    "code_folding": []
   },
   "outputs": [
    {
     "data": {
      "text/html": [
       "<div>\n",
       "<style scoped>\n",
       "    .dataframe tbody tr th:only-of-type {\n",
       "        vertical-align: middle;\n",
       "    }\n",
       "\n",
       "    .dataframe tbody tr th {\n",
       "        vertical-align: top;\n",
       "    }\n",
       "\n",
       "    .dataframe thead th {\n",
       "        text-align: right;\n",
       "    }\n",
       "</style>\n",
       "<table border=\"1\" class=\"dataframe\">\n",
       "  <thead>\n",
       "    <tr style=\"text-align: right;\">\n",
       "      <th></th>\n",
       "      <th>0</th>\n",
       "      <th>1</th>\n",
       "    </tr>\n",
       "  </thead>\n",
       "  <tbody>\n",
       "    <tr>\n",
       "      <td>0</td>\n",
       "      <td>-0.388173</td>\n",
       "      <td>-0.147401</td>\n",
       "    </tr>\n",
       "    <tr>\n",
       "      <td>1</td>\n",
       "      <td>-0.717954</td>\n",
       "      <td>-1.387479</td>\n",
       "    </tr>\n",
       "    <tr>\n",
       "      <td>2</td>\n",
       "      <td>-0.721229</td>\n",
       "      <td>-0.868733</td>\n",
       "    </tr>\n",
       "    <tr>\n",
       "      <td>3</td>\n",
       "      <td>-2.477050</td>\n",
       "      <td>0.821981</td>\n",
       "    </tr>\n",
       "    <tr>\n",
       "      <td>4</td>\n",
       "      <td>0.378843</td>\n",
       "      <td>2.072729</td>\n",
       "    </tr>\n",
       "    <tr>\n",
       "      <td>5</td>\n",
       "      <td>0.318052</td>\n",
       "      <td>-0.268321</td>\n",
       "    </tr>\n",
       "    <tr>\n",
       "      <td>6</td>\n",
       "      <td>-1.082962</td>\n",
       "      <td>-0.679227</td>\n",
       "    </tr>\n",
       "    <tr>\n",
       "      <td>7</td>\n",
       "      <td>0.765638</td>\n",
       "      <td>0.204376</td>\n",
       "    </tr>\n",
       "    <tr>\n",
       "      <td>8</td>\n",
       "      <td>0.078265</td>\n",
       "      <td>-0.272536</td>\n",
       "    </tr>\n",
       "    <tr>\n",
       "      <td>9</td>\n",
       "      <td>-0.522868</td>\n",
       "      <td>-1.090225</td>\n",
       "    </tr>\n",
       "  </tbody>\n",
       "</table>\n",
       "</div>"
      ],
      "text/plain": [
       "          0         1\n",
       "0 -0.388173 -0.147401\n",
       "1 -0.717954 -1.387479\n",
       "2 -0.721229 -0.868733\n",
       "3 -2.477050  0.821981\n",
       "4  0.378843  2.072729\n",
       "5  0.318052 -0.268321\n",
       "6 -1.082962 -0.679227\n",
       "7  0.765638  0.204376\n",
       "8  0.078265 -0.272536\n",
       "9 -0.522868 -1.090225"
      ]
     },
     "execution_count": 5,
     "metadata": {},
     "output_type": "execute_result"
    }
   ],
   "source": [
    "# 2.3 The first two columns\n",
    "df.iloc[:,0:2]"
   ]
  },
  {
   "cell_type": "code",
   "execution_count": 6,
   "metadata": {
    "code_folding": []
   },
   "outputs": [
    {
     "data": {
      "image/png": "[encoded data removed]",
      "text/plain": [
       "<Figure size 432x288 with 1 Axes>"
      ]
     },
     "metadata": {
      "needs_background": "light"
     },
     "output_type": "display_data"
    }
   ],
   "source": [
    "# 3. Plotting\n",
    "\n",
    "# Plotting requires minimally the following command\n",
    "# plt.plot(x,y); plt.show()\n",
    "# where x and y are the independent and dependent variables\n",
    "# and must be arrays of the same length\n",
    "\n",
    "# As an example let's set the first two columns as x and y\n",
    "x = df.iloc[:,0]\n",
    "y = df.iloc[:,1]\n",
    "plt.plot(x,y,'o'); plt.show()\n",
    "\n",
    "# For much more about plotting, see 4_plot-templates.ipynb"
   ]
  },
  {
   "cell_type": "code",
   "execution_count": 7,
   "metadata": {},
   "outputs": [
    {
     "data": {
      "image/png": "[encoded data removed]",
      "text/plain": [
       "<Figure size 432x288 with 1 Axes>"
      ]
     },
     "metadata": {
      "needs_background": "light"
     },
     "output_type": "display_data"
    }
   ],
   "source": [
    "# 4. Solving ODEs\n",
    "\n",
    "# Standard script to solve ODEs\n",
    "# using example from 2_introODE_python.ipynb\n",
    "\n",
    "time = np.linspace(0,10,50)\n",
    "p0 = 1.0\n",
    "params = np.array([1.0])\n",
    "\n",
    "def grads(y, t, params):\n",
    "    p = y[0]    \n",
    "    k = params[0]\n",
    "   \n",
    "    derivs = [\n",
    "        -k*p\n",
    "    ]\n",
    "    return(derivs)\n",
    "\n",
    "# Solver requires gradient function, initial values, time axis, and parameters\n",
    "sol = odeint(grads, p0, time, args=(params,))\n",
    "\n",
    "plt.plot(time,sol); plt.xlabel('t'); plt.ylabel('p(t)'); plt.show()"
   ]
  },
  {
   "cell_type": "code",
   "execution_count": null,
   "metadata": {},
   "outputs": [],
   "source": []
  }
 ],
 "metadata": {
  "kernelspec": {
   "display_name": "MSc2020",
   "language": "python",
   "name": "msc2020"
  },
  "language_info": {
   "codemirror_mode": {
    "name": "ipython",
    "version": 3
   },
   "file_extension": ".py",
   "mimetype": "text/x-python",
   "name": "python",
   "nbconvert_exporter": "python",
   "pygments_lexer": "ipython3",
   "version": "3.7.7"
  },
  "latex_envs": {
   "LaTeX_envs_menu_present": true,
   "autoclose": true,
   "autocomplete": true,
   "bibliofile": "biblio.bib",
   "cite_by": "apalike",
   "current_citInitial": 1,
   "eqLabelWithNumbers": true,
   "eqNumInitial": 1,
   "hotkeys": {
    "equation": "Ctrl-E",
    "itemize": "Ctrl-I"
   },
   "labels_anchors": false,
   "latex_user_defs": false,
   "report_style_numbering": false,
   "user_envs_cfg": false
  }
 },
 "nbformat": 4,
 "nbformat_minor": 2
}
