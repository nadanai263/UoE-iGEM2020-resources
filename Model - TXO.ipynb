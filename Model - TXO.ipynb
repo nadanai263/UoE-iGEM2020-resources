{
 "cells": [
  {
   "cell_type": "code",
   "execution_count": 1,
   "metadata": {},
   "outputs": [],
   "source": [
    "import TXOsim.helpers.sbmlIO as sio\n",
    "import tellurium as te\n",
    "from scipy.integrate import odeint\n",
    "import matplotlib.pyplot as plt\n",
    "import numpy as np\n",
    "import pandas as pd"
   ]
  },
  {
   "cell_type": "code",
   "execution_count": 2,
   "metadata": {},
   "outputs": [],
   "source": [
    "PATH_TO_MODELS = \"./TXOsim/models/\"\n",
    "PATH_TO_OUTPUT = \"./TXOsim/output/\" # Path for output data, plots\n",
    "MODELNAME = \"TXO\"\n",
    "MODELPY = \"TXO.py\"\n",
    "FILENAME = \"TXO.csv\" # Filename for output data"
   ]
  },
  {
   "cell_type": "code",
   "execution_count": 3,
   "metadata": {},
   "outputs": [
    {
     "name": "stdout",
     "output_type": "stream",
     "text": [
      "\n",
      "v_J0 = k1*D*R\n",
      "v_J1 = k2*RD\n",
      "v_J2 = k3*RD*N\n",
      "v_J3 = k4*RDN\n",
      "v_J4 = k5*RDN\n",
      "v_J5 = k6*M\n",
      "\n",
      "dD/dt = -v_J0 + v_J1 + v_J4\n",
      "dR/dt = -v_J0 + v_J1 + v_J4\n",
      "dRD/dt = v_J0 - v_J1 - v_J2 + v_J3\n",
      "dN/dt = -v_J2 + v_J3\n",
      "dRDN/dt = v_J2 - v_J3 - v_J4\n",
      "dM/dt = v_J4 - v_J5\n",
      "\n"
     ]
    }
   ],
   "source": [
    "# Generate ODEs from antimony file\n",
    "r = te.loada(PATH_TO_MODELS+MODELNAME)\n",
    "odes = sio.getODEsFromModel(r)\n",
    "speciesIds, speciesValues, parameterIds, parameterValues, derivatives = sio.parseODEs(r,odes)\n",
    "sio.writePython(speciesIds,speciesValues,parameterIds,parameterValues,derivatives,PATH_TO_MODELS,MODELPY)\n",
    "print(odes)"
   ]
  },
  {
   "cell_type": "code",
   "execution_count": 4,
   "metadata": {},
   "outputs": [
    {
     "data": {
      "image/png": "[encoded data removed]",
      "text/plain": [
       "<Figure size 432x288 with 1 Axes>"
      ]
     },
     "metadata": {
      "needs_background": "light"
     },
     "output_type": "display_data"
    }
   ],
   "source": [
    "# Solve ODEs \n",
    "from TXOsim.models import TXO\n",
    "y0 = np.array([float(value) for value in speciesValues])\n",
    "params = np.array([float(value) for value in parameterValues])\n",
    "TMAX = 12*60*60 # s\n",
    "NSTEPS = 100\n",
    "\n",
    "time = np.linspace(0,TMAX,NSTEPS)\n",
    "sol = odeint(TXO.model, y0, time, args=(params,)) # Scipy solver\n",
    "\n",
    "# Plot and save plot\n",
    "for i in range(sol.shape[1]):\n",
    "    plt.plot(time,sol[:,i], label=speciesIds[i]);\n",
    "plt.xlabel('t (s)'); plt.ylabel('concs (nM)'); plt.legend()   \n",
    "plt.savefig(PATH_TO_OUTPUT+'plot.pdf',transparent=True)\n",
    "plt.show() \n",
    "\n",
    "# Save data\n",
    "df = pd.DataFrame(sol)\n",
    "df.to_csv(PATH_TO_OUTPUT+FILENAME, index=None)"
   ]
  },
  {
   "cell_type": "markdown",
   "metadata": {},
   "source": [
    "1. What is purpose of model? E.g. to predict system behaviour before experiments, to investigate 'functional' parameter values, etc. This should be clear from the start!\n",
    "\n",
    "2. Is this mechanism sufficient? What do we want to explain, and what can we measure experimentally? We do not need to model everything!\n",
    "\n",
    "Strategy:\n",
    "\n",
    "1. First discuss sufficiency of current mechanism - we want to start from the same page. Does it need an extension? Try to get as accurate values for parameters as possible, from literature or better, experimental data: propose some experiments to measure some of these values directly. If neither is possible, then estimate the number, stating assumptions clearly. Whichever is the case, be sure to record what you did and why: there should be no parameters 'pulled out of a hat'. \n",
    "\n",
    "2. Then each person investigates extension to mechanism to take into account their component. You can work with antimony file or with ODEs directly. We want to be able to get final model in SBML form though - so antimony helps if possible. Investigate fully your model behaviour: systematically vary parameters, see where the model works and where it doesn't. If you have several possible mechanisms to explain your component, even better: you can compare them once we have experimental data and determine which is best.\n",
    "\n",
    "3. Then everyone comes together, and integrates the various components into a working device (we may have multiple devices requiring different components). Again, investigate fully the behaviour of the integrated model. Populate it with reasonable parameters, and use it to make predictions.\n",
    "\n",
    "4. Compare with experimental data.\n",
    "\n",
    "Mechanism -> ODEs -> predict -> infer\n",
    "\n",
    "We get 'points' for the following:\n",
    "* Being able to explain where all parameters come from (experiments > literature > estimate)\n",
    "* Using the model to predict behaviour before an experiment is done (improve experiments with model)\n",
    "* Using experiments to distinguish good models from bad ones (improve model with experiments)\n",
    "* Using community-friendly tools (Docker, SBML)\n",
    "* Accessible code and documentation\n",
    "\n",
    "\n"
   ]
  },
  {
   "cell_type": "code",
   "execution_count": null,
   "metadata": {},
   "outputs": [],
   "source": []
  }
 ],
 "metadata": {
  "kernelspec": {
   "display_name": "Python 3",
   "language": "python",
   "name": "python3"
  },
  "language_info": {
   "codemirror_mode": {
    "name": "ipython",
    "version": 3
   },
   "file_extension": ".py",
   "mimetype": "text/x-python",
   "name": "python",
   "nbconvert_exporter": "python",
   "pygments_lexer": "ipython3",
   "version": "3.8.5"
  }
 },
 "nbformat": 4,
 "nbformat_minor": 4
}
