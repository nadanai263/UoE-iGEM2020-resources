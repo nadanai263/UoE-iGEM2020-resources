{
 "cells": [
  {
   "cell_type": "markdown",
   "metadata": {},
   "source": [
    "# Why model?\n",
    "\n",
    "What is the purpose of a model?\n",
    "* to predict system behaviour before experiments\n",
    "* to investigate which parameter values lead to behaviour you want\n",
    "* to make your understanding concrete and not hand-wavy\n",
    "* etc etc.\n",
    "\n",
    "Your reasons for modelling should be clear from the start! Because models are imperfect 'representations of reality'. You have to know when your model has achieved its function, and hence when to stop.\n"
   ]
  },
  {
   "cell_type": "markdown",
   "metadata": {},
   "source": [
    "# Outline for today\n",
    "* First an introduction to ODEs\n",
    "\n",
    "* Modelling, step-by-step, with an introduction to tools:\n",
    "1. Mechanism\n",
    "2. ODEs\n",
    "3. Prediction\n",
    "4. Inference\n",
    "\n",
    "* Basic TXO model for *you* to improve\n",
    "* Strategy for iGEM"
   ]
  },
  {
   "cell_type": "markdown",
   "metadata": {},
   "source": [
    "# Part 1: What is an ODE?"
   ]
  },
  {
   "cell_type": "code",
   "execution_count": 15,
   "metadata": {},
   "outputs": [],
   "source": [
    "import matplotlib.pyplot as plt\n",
    "import numpy as np\n",
    "import pandas as pd\n",
    "from scipy.integrate import odeint"
   ]
  },
  {
   "cell_type": "markdown",
   "metadata": {},
   "source": [
    "A differential equation relates the **value of a function** to its **rate of change**:\n",
    "\n",
    "\\begin{equation}\n",
    "\\frac{dp(t)}{dt} = -k p(t)\n",
    "\\end{equation}\n",
    "\n",
    "Here, $p(t)$ is a time-dependent variable, and $k$ is a constant parameter. This equation can also be expressed using dot-notation as $\\dot{p}=-kp$.\n",
    "\n",
    "This equation says that the rate of change of $p(t)$, as a function of $t$, is equal to \n",
    "* the value of p(t)\n",
    "* scaled by the parameter k\n",
    "* with a minus sign\n",
    "\n",
    "So, \n",
    "1. when $p$ is large, the gradient is steep and downwards\n",
    "2. when $p$ is small, the gradient is shallow and close to 0.\n",
    "\n",
    "Let's solve the equation to see if this intuition is correct."
   ]
  },
  {
   "cell_type": "markdown",
   "metadata": {},
   "source": [
    "## 1. Solving the equation mathematically"
   ]
  },
  {
   "cell_type": "markdown",
   "metadata": {},
   "source": [
    "To mathematically solve this equation, we **integrate**:\n",
    "\n",
    "\\begin{equation}\n",
    "\\frac{dp(t)}{dt} = -k p(t)\n",
    "\\end{equation}\n",
    "\n",
    "\\begin{equation}\n",
    "dp(t) = -k p(t) dt\n",
    "\\end{equation}\n",
    "\n",
    "\\begin{equation}\n",
    "\\int dp = \\int -k p(t) dt\n",
    "\\end{equation}\n",
    "\n",
    "\\begin{equation}\n",
    "\\int \\frac{dp}{p(t)} = \\int -k dt\n",
    "\\end{equation}"
   ]
  },
  {
   "cell_type": "markdown",
   "metadata": {},
   "source": [
    "### 1.1 Indefinite integration: a family of functions"
   ]
  },
  {
   "cell_type": "markdown",
   "metadata": {},
   "source": [
    "We can integrate *indefinitely*, which means solving the equation generally, which results in a family of functions (as multiple functions can obey the same ODE):\n",
    "\n",
    "\\begin{equation}\n",
    "\\int \\frac{dp}{p(t)} = \\int -k dt\n",
    "\\end{equation}\n",
    "which, using standard integration results, becomes:\n",
    "\\begin{equation}\n",
    "\\ln p(t) = -kt + C\n",
    "\\end{equation}\n",
    "where $C$ is a *constant of integration*. This can be expressed as:\n",
    "\\begin{equation}\n",
    "p(t) = \\exp(-kt + C)\n",
    "\\end{equation}\n",
    "\\begin{equation}\n",
    "p(t) = \\exp(-kt)\\exp(C)\n",
    "\\end{equation}\n",
    "\\begin{equation}\n",
    "p(t) = A\\exp(-kt),\n",
    "\\end{equation}\n",
    "where we have redefined $A=\\exp(C)$ as a new constant of integration. What does this look like?"
   ]
  },
  {
   "cell_type": "code",
   "execution_count": null,
   "metadata": {},
   "outputs": [],
   "source": [
    "# Plot \n",
    "\n",
    "t = np.linspace(0,10,50)\n",
    "\n",
    "def p(t,k,A):\n",
    "    return A*np.exp(-k*t)\n",
    "\n",
    "f, (ax1, ax2) = plt.subplots(1, 2)\n",
    "for A in [1,2,3]:\n",
    "    k = 1\n",
    "    ax1.plot(t, p(t,k,A), label='A='+str(A))\n",
    "ax1.set_title('changing A'); ax1.legend(); ax1.set_xlabel('t'); ax1.set_ylabel('p')\n",
    "\n",
    "for k in [1,2,3]:\n",
    "    A = 1\n",
    "    ax2.plot(t,p(t,k,A), label='k='+str(k))\n",
    "ax2.set_title('changing k') ; ax2.legend(); ax2.set_xlabel('t'); ax2.set_ylabel('p')\n",
    "f.tight_layout(); plt.show()"
   ]
  },
  {
   "cell_type": "markdown",
   "metadata": {},
   "source": [
    "So our intuition was correct. Additionally you can see how the constants $A$ and $k$ affect the solution: $A$ is the y-intercept, which in this case is also known as the *initial condition*, as it represents the value of $p$ at time $t=0$. $k$ is the decay constant. In general, this family of solutions represents an exponential decay."
   ]
  },
  {
   "cell_type": "markdown",
   "metadata": {},
   "source": [
    "### 1.2 Definite integration: a specific case"
   ]
  },
  {
   "cell_type": "markdown",
   "metadata": {},
   "source": [
    "We can also carry out *definite integration*, which means solving the equation for a specific case. Here you need **boundary conditions**, which are values of the function at specific times: this allows you to select your trajectory out of the large family of possible trajectories illustrated above. \n",
    "\n",
    "For instance, say you knew that $p(t=0)$ equals some constant $p_0$:\n",
    "\n",
    "\\begin{equation}\n",
    "\\int_{p=p_0}^{p(t)} \\frac{dp}{p(t)} = \\int_{0}^{t=\\infty} -k dt\n",
    "\\end{equation}\n",
    "As before we end up with the standard integration result, but this time without an integration constant:\n",
    "\\begin{equation}\n",
    "\\left[\\ln p(t)\\right]_{p_0}^{p} = \\left[-kt\\right] _{0}^{t}\n",
    "\\end{equation}\n",
    "which becomes, after evaluating the brackets at each of the time points,\n",
    "\n",
    "\\begin{equation}\n",
    "\\ln p(t) - \\ln p_0 = -kt - 0\n",
    "\\end{equation}\n",
    "\n",
    "\\begin{equation}\n",
    "p(t) = \\exp(-kt + \\ln p_0)\n",
    "\\end{equation}\n",
    "\\begin{equation}\n",
    "p(t) = p_0\\exp(-kt),\n",
    "\\end{equation}\n",
    "where we now get a specific trajectory (equivalent to above, but with $A=p_0$, our boundary condition)."
   ]
  },
  {
   "cell_type": "markdown",
   "metadata": {},
   "source": [
    "## 2. Solving the equation numerically"
   ]
  },
  {
   "cell_type": "markdown",
   "metadata": {},
   "source": [
    "In the computer we would like to solve this equation numerically. To do this we use the definition of the derivative, that $dt\\approx\\Delta t$, and $dp(t)\\approx(p(t+\\Delta t)-p(t))$:\n",
    "\\begin{equation}\n",
    "\\frac{dp(t)}{dt} = -k p(t)\n",
    "\\end{equation}\n",
    "becomes\n",
    "\\begin{equation}\n",
    "\\frac{p(t+\\Delta t)-p(t)}{\\Delta t} = -k p(t)\n",
    "\\end{equation}"
   ]
  },
  {
   "cell_type": "markdown",
   "metadata": {},
   "source": [
    "So we can rearrange this to get\n",
    "\n",
    "\\begin{equation}\n",
    "p(t+\\Delta t) = (-k p(t))\\Delta t+p(t)\n",
    "\\end{equation}\n",
    "\n",
    "This equation gives $p(t+\\Delta t)$, the value of $p$ at the next time increment, calculating it from $p$ at the previous time step. So by iterating over this equation, starting from an initial value of $p$, we can determine all future values of $p$. This way of solving is called the *Euler method* and forms the basis of all numerical ODE solvers. "
   ]
  },
  {
   "cell_type": "code",
   "execution_count": null,
   "metadata": {},
   "outputs": [],
   "source": [
    "# Euler method with python\n",
    "\n",
    "def euler(p0, t, k):\n",
    "    \n",
    "    dt = t[1]-t[0] # time increment\n",
    "    N = len(t) # number of timepoints\n",
    "    p = np.ones(N)*p0\n",
    "\n",
    "    for j in range(N-1):\n",
    "        p[j+1] = -k*p[j]*dt + p[j]\n",
    "        \n",
    "    return(p)\n",
    "\n",
    "time = np.linspace(0,10,50)\n",
    "p0 = 1.0\n",
    "k = 1\n",
    "p = euler(p0,time,k)\n",
    "plt.plot(time,p); plt.xlabel('t'); plt.ylabel('p(t)'); plt.show()"
   ]
  },
  {
   "cell_type": "markdown",
   "metadata": {},
   "source": [
    "In python we can use the more efficient `odeint` function from scipy. This function takes as an input\n",
    "* initial values for all dependent variables (in this case, p)\n",
    "* the axis of independent variables (in this case, t)\n",
    "* parameters (in this case, k)\n",
    "* and a function which returns the gradient i.e. the differential equation to be solved.\n",
    "\n",
    "See below for how it's done:"
   ]
  },
  {
   "cell_type": "code",
   "execution_count": null,
   "metadata": {},
   "outputs": [],
   "source": [
    "# Standard script to solve ODEs\n",
    "\n",
    "time = np.linspace(0,10,50)\n",
    "p0 = 1.0\n",
    "params = np.array([1.0])\n",
    "\n",
    "def grads(y, t, params):\n",
    "    p = y[0]    \n",
    "    k = params[0]\n",
    "   \n",
    "    derivs = [\n",
    "        -k*p\n",
    "    ]\n",
    "    return(derivs)\n",
    "\n",
    "sol = odeint(grads, p0, time, args=(params,)) # The most important line! \n",
    "\n",
    "plt.plot(time,sol, label='scipy'); plt.xlabel('t'); plt.ylabel('p(t)'); \n",
    "plt.plot(time,euler(p0,time,params), label='euler'); plt.legend(); plt.show() # compare to our Euler method"
   ]
  },
  {
   "cell_type": "markdown",
   "metadata": {},
   "source": [
    "# Part 2: Modelling step-by-step"
   ]
  },
  {
   "cell_type": "markdown",
   "metadata": {},
   "source": [
    "## 1. Mechanism"
   ]
  },
  {
   "cell_type": "markdown",
   "metadata": {},
   "source": [
    "\\begin{equation}\n",
    "E + S \\underset{k_{2}}{\\stackrel{k_1}{\\rightleftharpoons}} ES \\overset{k_3}\\rightarrow P + E\n",
    "\\end{equation}\n",
    "\n",
    "can be broken down into the following elementary reactions\n",
    "\n",
    "\\begin{align}\n",
    "S + E \\overset{k_1}\\rightarrow ES,\\;\\;\\;\\;\\; &v_0 = k_1S\\times E \\\\\n",
    "ES \\overset{k_2}\\rightarrow S + E,\\;\\;\\;\\;\\; &v_1 = k_2ES  \\\\\n",
    "ES \\overset{k_3}\\rightarrow P + E,\\;\\;\\;\\;\\; &v_2 = k_3ES \n",
    "\\end{align}\n",
    "\n",
    "which involves 4 species\n",
    "\\begin{align}\n",
    "E \\\\\n",
    "S \\\\\n",
    "ES \\\\\n",
    "P\n",
    "\\end{align}\n",
    "\n",
    "and 3 parameters\n",
    "\\begin{align}\n",
    "k_1 \\\\\n",
    "k_2 \\\\\n",
    "k_3 \n",
    "\\end{align}"
   ]
  },
  {
   "cell_type": "markdown",
   "metadata": {},
   "source": [
    "## 2. ODEs"
   ]
  },
  {
   "cell_type": "markdown",
   "metadata": {},
   "source": [
    "To make ODEs we have to figure out which which reactions produce and consume each species:\n",
    "\n",
    "\\begin{align}\n",
    "\\dot{e} &= -v_0 + v_1 + v_2\\\\\n",
    "\\dot{s} &= -v_0 + v_1 \\\\\n",
    "\\dot{x} &= v_0 - v_1 - v_2 \\\\\n",
    "\\dot{p} &= v_2\n",
    "\\end{align}\n",
    "\n",
    "which becomes\n",
    "\n",
    "\\begin{align}\n",
    "\\dot{e} &= -k_1se + k_{2}x + k_3x\\\\\n",
    "\\dot{s} &= -k_1se + k_{2}x \\\\\n",
    "\\dot{x} &= k_1se - k_{2}x - k_3x \\\\\n",
    "\\dot{p} &= k_3x\n",
    "\\end{align}"
   ]
  },
  {
   "cell_type": "markdown",
   "metadata": {},
   "source": [
    "## 3. Prediction"
   ]
  },
  {
   "cell_type": "markdown",
   "metadata": {},
   "source": [
    "i.e. solving the ODEs, plotting and saving the results."
   ]
  },
  {
   "cell_type": "code",
   "execution_count": null,
   "metadata": {},
   "outputs": [],
   "source": [
    "PATH_TO_MODELS = \"./TXOsim/models/\"\n",
    "PATH_TO_OUTPUT = \"./TXOsim/output/\" # Path for output data, plots\n",
    "MODELNAME = \"MM\"\n",
    "MODELPY = \"MM.py\"\n",
    "FILENAME = \"MM.csv\" # Filename for output data\n",
    "\n",
    "time = np.linspace(0,3,100)\n",
    "\n",
    "# Define initial conditions\n",
    "e0 = 8.0\n",
    "s0 = 10.0\n",
    "x0 = 0.0\n",
    "p0 = 0.0\n",
    "\n",
    "# Define parameters\n",
    "k1 = 100.0\n",
    "k2 = 50.0\n",
    "k3 = 1.0\n",
    "\n",
    "# Set parameters and initial conditions in arrays\n",
    "y0 = np.array([e0,s0,x0,p0])\n",
    "params = np.array([k1,k2,k3])\n",
    "\n",
    "# Define gradient function - our ODEs\n",
    "def grads(y, t, params):\n",
    "    e = y[0]\n",
    "    s = y[1]\n",
    "    x = y[2]\n",
    "    p = y[3]\n",
    "    \n",
    "    k1 = params[0]\n",
    "    k2 = params[1]\n",
    "    k3 = params[2]\n",
    "   \n",
    "\n",
    "\n",
    "    derivs = [\n",
    "#        ..., # YOUR CODE HERE\n",
    "#        ...,\n",
    "#        ...,\n",
    "#        ...\n",
    "    ]\n",
    "    return(derivs)\n",
    "\n",
    "# Solve the ODEs\n",
    "sol = odeint(grads, y0, time, args=(params,))  # The most important line! \n",
    "\n",
    "# Plot the results\n",
    "plt.plot(time,sol[:,0], label='e');\n",
    "plt.plot(time,sol[:,1], label='s');\n",
    "plt.plot(time,sol[:,2], label='x');\n",
    "plt.plot(time,sol[:,3], label='p');\n",
    "plt.xlabel('t'); plt.ylabel('concs'); plt.legend(); \n",
    "plt.savefig(PATH_TO_OUTPUT+'plotMM.pdf',transparent=True); # In Jupyter call save before show\n",
    "plt.show()"
   ]
  },
  {
   "cell_type": "code",
   "execution_count": 26,
   "metadata": {},
   "outputs": [],
   "source": [
    "# Save data\n",
    "df = pd.DataFrame(sol)\n",
    "df.to_csv(PATH_TO_OUTPUT+FILENAME, index=None)"
   ]
  },
  {
   "cell_type": "markdown",
   "metadata": {},
   "source": [
    "# Pause point: tools to make your life easier"
   ]
  },
  {
   "cell_type": "code",
   "execution_count": 27,
   "metadata": {},
   "outputs": [],
   "source": [
    "import TXOsim.helpers.sbmlIO as sio\n",
    "import tellurium as te"
   ]
  },
  {
   "cell_type": "code",
   "execution_count": 28,
   "metadata": {},
   "outputs": [],
   "source": [
    "PATH_TO_MODELS = \"./TXOsim/models/\"\n",
    "PATH_TO_OUTPUT = \"./TXOsim/output/\" # Path for output data, plots\n",
    "MODELNAME = \"michaelis\"\n",
    "MODELPY = \"michaelis.py\"\n",
    "FILENAME = \"michaelis.csv\" # Filename for output data"
   ]
  },
  {
   "cell_type": "code",
   "execution_count": null,
   "metadata": {},
   "outputs": [],
   "source": [
    "# Generate ODEs from antimony file\n",
    "\n",
    "# Create a 'roadrunner' model object from antimony file\n",
    "r = te.loada(PATH_TO_MODELS+MODELNAME) \n",
    "r.exportToSBML(PATH_TO_MODELS+MODELNAME+\".xml\") # Save as SBML file - this is a community standard model file\n",
    "# r = te.loadSBMLModel(\"model.xml\") # load from SBML if required\n",
    "\n",
    "# Get ODES from model\n",
    "odes = sio.getODEsFromModel(r) \n",
    "\n",
    "# Read species names and values from model\n",
    "speciesIds, speciesValues, parameterIds, parameterValues, derivatives = sio.parseODEs(r,odes)\n",
    "\n",
    "# Generate python code for model which can be solved using scipy\n",
    "sio.writePython(speciesIds,speciesValues,parameterIds,parameterValues,derivatives,PATH_TO_MODELS,MODELPY)\n",
    "print(odes)"
   ]
  },
  {
   "cell_type": "code",
   "execution_count": null,
   "metadata": {},
   "outputs": [],
   "source": [
    "# Solve ODEs \n",
    "from TXOsim.models import michaelis\n",
    "\n",
    "y0 = np.array([float(value) for value in speciesValues])\n",
    "params = np.array([float(value) for value in parameterValues])\n",
    "TMAX = 3\n",
    "NSTEPS = 100\n",
    "time = np.linspace(0,TMAX,NSTEPS)\n",
    "\n",
    "sol = odeint(michaelis.model, y0, time, args=(params,)) \n",
    "\n",
    "# Plot and save plot\n",
    "for i in range(sol.shape[1]):\n",
    "    plt.plot(time,sol[:,i], label=speciesIds[i]);\n",
    "plt.xlabel('t'); plt.ylabel('concs'); plt.legend()   \n",
    "plt.savefig(PATH_TO_OUTPUT+'plot.pdf',transparent=True)\n",
    "plt.show() \n",
    "\n",
    "# Save data\n",
    "df = pd.DataFrame(sol)\n",
    "df.to_csv(PATH_TO_OUTPUT+FILENAME, index=None)"
   ]
  },
  {
   "cell_type": "markdown",
   "metadata": {},
   "source": [
    "## 4. Inference"
   ]
  },
  {
   "cell_type": "markdown",
   "metadata": {},
   "source": [
    "If we have some experimental data, how do we fit the parameters to the model? Another workshop needed for this... but briefly:"
   ]
  },
  {
   "cell_type": "code",
   "execution_count": 87,
   "metadata": {},
   "outputs": [],
   "source": [
    "from scipy.optimize import minimize"
   ]
  },
  {
   "cell_type": "code",
   "execution_count": null,
   "metadata": {},
   "outputs": [],
   "source": [
    "df=pd.read_csv(\"./reference/example_datafiles/dataexpt.csv\")\n",
    "df2=pd.read_csv(\"./reference/example_datafiles/errexpt.csv\")\n",
    "xfull = np.linspace(0,12,361)\n",
    "yfull = df.iloc[:,0]\n",
    "yerrfull = df2.iloc[:,0]\n",
    "x = xfull[::20]\n",
    "y = yfull[::20]\n",
    "yerr = yerrfull[::20]\n",
    "plt.errorbar(x,y,yerr=yerr,fmt='o'); plt.xlabel('t (h)'); plt.ylabel('conc GFP (uM)'); plt.show()"
   ]
  },
  {
   "cell_type": "code",
   "execution_count": null,
   "metadata": {},
   "outputs": [],
   "source": [
    "y0 = np.array([10,8,0,0])\n",
    "params = np.array([100,50,1])\n",
    "TMAX = 12\n",
    "NSTEPS = 19\n",
    "time = np.linspace(0,TMAX,NSTEPS)\n",
    "\n",
    "sol = odeint(michaelis.model, y0, time, args=(params,),mxstep=10000) \n",
    "\n",
    "# Plot and save plot\n",
    "\n",
    "plt.plot(time,sol[:,2], label=speciesIds[2]);\n",
    "plt.xlabel('t'); plt.ylabel('concs'); plt.legend()   \n",
    "plt.show() "
   ]
  },
  {
   "cell_type": "markdown",
   "metadata": {},
   "source": [
    "Define a function which measures the **distance** between model and data, and try to minimise that distance."
   ]
  },
  {
   "cell_type": "code",
   "execution_count": 108,
   "metadata": {},
   "outputs": [],
   "source": [
    "def log_likelihood(theta, x, y, yerr):\n",
    "    k1,k2,k3,n1,n2 = theta\n",
    "    params = np.array([k1,k2,k3])\n",
    "    y0 = np.array([10*n1,8*n2,0,0])\n",
    "    sol = odeint(michaelis.model, y0, time, args=(params,),mxstep=10000) \n",
    "    modelpred = sol[:,2]\n",
    "    sigma2 = yerr ** 2 \n",
    "    return -0.5 * np.sum((y - modelpred) ** 2 / sigma2 + np.log(sigma2))"
   ]
  },
  {
   "cell_type": "code",
   "execution_count": null,
   "metadata": {
    "scrolled": false
   },
   "outputs": [],
   "source": [
    "np.random.seed(9)\n",
    "nll = lambda *args: -log_likelihood(*args)\n",
    "initial = np.array([100,50,1,1,1]) + 0.1 * np.random.randn(5)\n",
    "soln = minimize(nll, initial, args=(x, y, yerr),options={'gtol': 1e-6, 'disp': True}) # Run minimizer\n",
    "k1ml,k2ml,k3ml,n1ml,n2ml = soln.x\n",
    "print('Best-fit parameters:', soln.x)"
   ]
  },
  {
   "cell_type": "code",
   "execution_count": null,
   "metadata": {},
   "outputs": [],
   "source": [
    "y0 = np.array([10*n1ml,8*n2ml,0,0])\n",
    "params= np.array([k1ml,k2ml,k3ml])\n",
    "TMAX = 12\n",
    "NSTEPS = 19\n",
    "time = np.linspace(0,TMAX,NSTEPS)\n",
    "\n",
    "sol = odeint(michaelis.model, y0, time, args=(params,),mxstep=10000) \n",
    "\n",
    "# Plot and save plot\n",
    "\n",
    "plt.plot(time,sol[:,2], label='model');\n",
    "plt.errorbar(x,y,yerr=yerr, fmt='o',label='data')\n",
    "plt.xlabel('t'); plt.ylabel('concs'); plt.legend(); plt.show()"
   ]
  },
  {
   "cell_type": "markdown",
   "metadata": {},
   "source": [
    "This method does not always converge, multiple different parameter values may lead to similar fits, there is no estimate of error in the fit. So in general we prefer Bayesian methods for fitting, using a package like [emcee](https://emcee.readthedocs.io/en/stable/)."
   ]
  },
  {
   "cell_type": "code",
   "execution_count": null,
   "metadata": {},
   "outputs": [],
   "source": []
  }
 ],
 "metadata": {
  "kernelspec": {
   "display_name": "Python 3",
   "language": "python",
   "name": "python3"
  },
  "language_info": {
   "codemirror_mode": {
    "name": "ipython",
    "version": 3
   },
   "file_extension": ".py",
   "mimetype": "text/x-python",
   "name": "python",
   "nbconvert_exporter": "python",
   "pygments_lexer": "ipython3",
   "version": "3.8.5"
  }
 },
 "nbformat": 4,
 "nbformat_minor": 4
}
