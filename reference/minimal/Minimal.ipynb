{
 "cells": [
  {
   "cell_type": "code",
   "execution_count": 1,
   "metadata": {},
   "outputs": [],
   "source": [
    "import tellurium as te\n",
    "import sbmlIO as se\n",
    "from scipy.integrate import odeint\n",
    "import matplotlib.pyplot as plt\n",
    "import numpy as np"
   ]
  },
  {
   "cell_type": "code",
   "execution_count": 2,
   "metadata": {},
   "outputs": [],
   "source": [
    "r = te.loada(\"model\")"
   ]
  },
  {
   "cell_type": "code",
   "execution_count": 3,
   "metadata": {},
   "outputs": [],
   "source": [
    "odes = se.getODEsFromModel(r)"
   ]
  },
  {
   "cell_type": "code",
   "execution_count": 4,
   "metadata": {},
   "outputs": [
    {
     "name": "stdout",
     "output_type": "stream",
     "text": [
      "\n",
      "v_J0 = k1*S1\n",
      "v_J1 = k2*S2\n",
      "\n",
      "dS1/dt = -v_J0 + v_J1\n",
      "dS2/dt = v_J0 - v_J1\n",
      "\n"
     ]
    }
   ],
   "source": [
    "print(odes)"
   ]
  },
  {
   "cell_type": "code",
   "execution_count": 5,
   "metadata": {},
   "outputs": [
    {
     "name": "stdout",
     "output_type": "stream",
     "text": [
      "{'dS1/dt': '-v_J0 + v_J1', 'dS2/dt': 'v_J0 - v_J1'}\n",
      "{'v_J0': 'k1*S1', 'v_J1': 'k2*S2'}\n"
     ]
    }
   ],
   "source": [
    "speciesIds, speciesValues, parameterIds, parameterValues, derivatives = se.parseODEs(r,odes)"
   ]
  },
  {
   "cell_type": "code",
   "execution_count": 6,
   "metadata": {},
   "outputs": [],
   "source": [
    "r.exportToSBML(\"model.xml\")"
   ]
  },
  {
   "cell_type": "code",
   "execution_count": 7,
   "metadata": {},
   "outputs": [],
   "source": [
    "odes = se.getODEsFromSBMLFile(\"model.xml\")"
   ]
  },
  {
   "cell_type": "code",
   "execution_count": 8,
   "metadata": {},
   "outputs": [],
   "source": [
    "r = te.loadSBMLModel(\"model.xml\")"
   ]
  },
  {
   "cell_type": "code",
   "execution_count": 9,
   "metadata": {},
   "outputs": [
    {
     "name": "stdout",
     "output_type": "stream",
     "text": [
      "{'dS1/dt': '-v_J0 + v_J1', 'dS2/dt': 'v_J0 - v_J1'}\n",
      "{'v_J0': 'k1*S1', 'v_J1': 'k2*S2'}\n"
     ]
    }
   ],
   "source": [
    "speciesIds, speciesValues, parameterIds, parameterValues, derivatives = se.parseODEs(r,odes)"
   ]
  },
  {
   "cell_type": "code",
   "execution_count": 10,
   "metadata": {},
   "outputs": [],
   "source": [
    "se.writePython(speciesIds,speciesValues,parameterIds,parameterValues,derivatives,\"./\",\"out.py\")"
   ]
  },
  {
   "cell_type": "code",
   "execution_count": 11,
   "metadata": {},
   "outputs": [],
   "source": [
    "from out import model"
   ]
  },
  {
   "cell_type": "code",
   "execution_count": 12,
   "metadata": {},
   "outputs": [
    {
     "data": {
      "image/png": "[encoded data removed]",
      "text/plain": [
       "<Figure size 432x288 with 1 Axes>"
      ]
     },
     "metadata": {
      "needs_background": "light"
     },
     "output_type": "display_data"
    }
   ],
   "source": [
    "y0 = np.array([float(value) for value in speciesValues])\n",
    "params = np.array([float(value) for value in parameterValues])\n",
    "TMAX = 10\n",
    "NSTEPS = 100\n",
    "\n",
    "time = np.linspace(0,TMAX,NSTEPS)\n",
    "sol = odeint(model, y0, time, args=(params,)) # scipy-Fortran RK4 solver\n",
    "for i in range(sol.shape[1]):\n",
    "    plt.plot(time,sol[:,i]);"
   ]
  },
  {
   "cell_type": "code",
   "execution_count": null,
   "metadata": {},
   "outputs": [],
   "source": []
  },
  {
   "cell_type": "code",
   "execution_count": null,
   "metadata": {},
   "outputs": [],
   "source": []
  }
 ],
 "metadata": {
  "kernelspec": {
   "display_name": "Python 3",
   "language": "python",
   "name": "python3"
  },
  "language_info": {
   "codemirror_mode": {
    "name": "ipython",
    "version": 3
   },
   "file_extension": ".py",
   "mimetype": "text/x-python",
   "name": "python",
   "nbconvert_exporter": "python",
   "pygments_lexer": "ipython3",
   "version": "3.8.5"
  }
 },
 "nbformat": 4,
 "nbformat_minor": 4
}
