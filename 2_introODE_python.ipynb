{
 "cells": [
  {
   "cell_type": "markdown",
   "metadata": {},
   "source": [
    "# Very brief introduction to ODEs for genetic and metabolic modelling\n",
    "March 2020, Nadanai Laohakunakorn (nadanai.laohakunakorn@ed.ac.uk)\n",
    "\n"
   ]
  },
  {
   "cell_type": "code",
   "execution_count": 1,
   "metadata": {},
   "outputs": [],
   "source": [
    "%matplotlib inline\n",
    "import matplotlib.pyplot as plt\n",
    "import numpy as np\n",
    "from scipy.integrate import odeint"
   ]
  },
  {
   "cell_type": "markdown",
   "metadata": {},
   "source": [
    "A differential equation relates the value of a function to its rate of change:\n",
    "\n",
    "\\begin{equation}\n",
    "\\frac{dp(t)}{dt} = -k p(t)\n",
    "\\end{equation}\n",
    "\n",
    "Here, $p(t)$ is a time-dependent variable, and $k$ is a parameter. Make sure you understand the difference between a variable and a parameter. This equation can also be expressed using dot-notation as $\\dot{p}=-kp$.\n",
    "\n",
    "This equation says that the rate of change of $p(t)$, as a function of $t$, is equal to \n",
    "* the value of p(t)\n",
    "* scaled by the parameter k\n",
    "* with a minus sign\n",
    "\n",
    "So, \n",
    "1. when $p$ is large, the gradient is steep and downwards\n",
    "2. when $p$ is small, the gradient is shallow and close to 0.\n",
    "\n",
    "Let's solve the equation to see if this intuition is correct."
   ]
  },
  {
   "cell_type": "markdown",
   "metadata": {},
   "source": [
    "## 1. Solving the equation mathematically"
   ]
  },
  {
   "cell_type": "markdown",
   "metadata": {},
   "source": [
    "To mathematically solve this equation, we **integrate**:\n",
    "\n",
    "\\begin{equation}\n",
    "\\frac{dp(t)}{dt} = -k p(t)\n",
    "\\end{equation}\n",
    "\n",
    "\\begin{equation}\n",
    "dp(t) = -k p(t) dt\n",
    "\\end{equation}\n",
    "\n",
    "\\begin{equation}\n",
    "\\int dp = \\int -k p(t) dt\n",
    "\\end{equation}\n",
    "\n",
    "\\begin{equation}\n",
    "\\int \\frac{dp}{p(t)} = \\int -k dt\n",
    "\\end{equation}"
   ]
  },
  {
   "cell_type": "markdown",
   "metadata": {},
   "source": [
    "### 1.1 Indefinite integration: a family of functions"
   ]
  },
  {
   "cell_type": "markdown",
   "metadata": {},
   "source": [
    "We can integrate *indefinitely*, which means solving the equation generally, which results in a family of functions (as multiple functions can obey the same ODE):\n",
    "\n",
    "\\begin{equation}\n",
    "\\int \\frac{dp}{p(t)} = \\int -k dt\n",
    "\\end{equation}\n",
    "which, using standard integration results, becomes:\n",
    "\\begin{equation}\n",
    "\\ln p(t) = -kt + C\n",
    "\\end{equation}\n",
    "where $C$ is a *constant of integration*. This can be expressed as:\n",
    "\\begin{equation}\n",
    "p(t) = \\exp(-kt + C)\n",
    "\\end{equation}\n",
    "\\begin{equation}\n",
    "p(t) = \\exp(-kt)\\exp(C)\n",
    "\\end{equation}\n",
    "\\begin{equation}\n",
    "p(t) = A\\exp(-kt),\n",
    "\\end{equation}\n",
    "where we have redefined $A=\\exp(C)$ as a new constant of integration. What does this look like?"
   ]
  },
  {
   "cell_type": "code",
   "execution_count": 2,
   "metadata": {
    "scrolled": true
   },
   "outputs": [
    {
     "data": {
      "image/png": "[encoded data removed]",
      "text/plain": [
       "<Figure size 432x288 with 2 Axes>"
      ]
     },
     "metadata": {
      "needs_background": "light"
     },
     "output_type": "display_data"
    }
   ],
   "source": [
    "# Plot \n",
    "\n",
    "t = np.linspace(0,10,50)\n",
    "\n",
    "def p(t,k,A):\n",
    "    return A*np.exp(-k*t)\n",
    "\n",
    "f, (ax1, ax2) = plt.subplots(1, 2)\n",
    "for A in [1,2,3]:\n",
    "    k = 1\n",
    "    ax1.plot(t, p(t,k,A), label='A='+str(A))\n",
    "ax1.set_title('changing A'); ax1.legend(); ax1.set_xlabel('t'); ax1.set_ylabel('p')\n",
    "\n",
    "for k in [1,2,3]:\n",
    "    A = 1\n",
    "    ax2.plot(t,p(t,k,A), label='k='+str(k))\n",
    "ax2.set_title('changing k') ; ax2.legend(); ax2.set_xlabel('t'); ax2.set_ylabel('p')\n",
    "f.tight_layout(); plt.show()"
   ]
  },
  {
   "cell_type": "markdown",
   "metadata": {},
   "source": [
    "So our intuition was correct. Additionally you can see how the constants $A$ and $k$ affect the solution: $A$ is the y-intercept, which in this case is also known as the *initial condition*, as it represents the value of $p$ at time $t=0$. $k$ is the decay constant. In general, this family of solutions represents an exponential decay."
   ]
  },
  {
   "cell_type": "markdown",
   "metadata": {},
   "source": [
    "### 1.2 Definite integration: a specific case"
   ]
  },
  {
   "cell_type": "markdown",
   "metadata": {},
   "source": [
    "We can also carry out *definite integration*, which means solving the equation for a specific case. Here you need **boundary conditions**, which are values of the function at specific times: this allows you to select your trajectory out of the large family of possible trajectories illustrated above. \n",
    "\n",
    "For instance, say you knew that $p(t=0)$ equals some constant $p_0$:\n",
    "\n",
    "\\begin{equation}\n",
    "\\int_{p=p_0}^{p(t)} \\frac{dp}{p(t)} = \\int_{0}^{t=\\infty} -k dt\n",
    "\\end{equation}\n",
    "As before we end up with the standard integration result, but this time without an integration constant:\n",
    "\\begin{equation}\n",
    "\\left[\\ln p(t)\\right]_{p_0}^{p} = \\left[-kt\\right] _{0}^{t}\n",
    "\\end{equation}\n",
    "which becomes, after evaluating the brackets at each of the time points,\n",
    "\n",
    "\\begin{equation}\n",
    "\\ln p(t) - \\ln p_0 = -kt - 0\n",
    "\\end{equation}\n",
    "\n",
    "\\begin{equation}\n",
    "p(t) = \\exp(-kt + \\ln p_0)\n",
    "\\end{equation}\n",
    "\\begin{equation}\n",
    "p(t) = p_0\\exp(-kt),\n",
    "\\end{equation}\n",
    "where we now get a specific trajectory (equivalent to above, but with $A=p_0$, our boundary condition)."
   ]
  },
  {
   "cell_type": "markdown",
   "metadata": {},
   "source": [
    "## 2. Solving the equation numerically"
   ]
  },
  {
   "cell_type": "markdown",
   "metadata": {},
   "source": [
    "In the computer we would like to solve this equation numerically. To do this we use the definition of the derivative, that $dt\\approx\\Delta t$, and $dp(t)\\approx(p(t+\\Delta t)-p(t))$:\n",
    "\\begin{equation}\n",
    "\\frac{dp(t)}{dt} = -k p(t)\n",
    "\\end{equation}\n",
    "becomes\n",
    "\\begin{equation}\n",
    "\\frac{p(t+\\Delta t)-p(t)}{\\Delta t} = -k p(t)\n",
    "\\end{equation}"
   ]
  },
  {
   "cell_type": "markdown",
   "metadata": {},
   "source": [
    "So we can rearrange this to get\n",
    "\n",
    "\\begin{equation}\n",
    "p(t+\\Delta t) = (-k p(t))\\Delta t+p(t)\n",
    "\\end{equation}\n",
    "\n",
    "This equation gives $p(t+\\Delta t)$, the value of $p$ at the next time increment, calculating it from $p$ at the previous time step. So by iterating over this equation, starting from an initial value of $p$, we can determine all future values of $p$. This way of solving is called the *Euler method* and forms the basis of all numerical ODE solvers. "
   ]
  },
  {
   "cell_type": "code",
   "execution_count": 3,
   "metadata": {},
   "outputs": [
    {
     "data": {
      "image/png": "[encoded data removed]",
      "text/plain": [
       "<Figure size 432x288 with 1 Axes>"
      ]
     },
     "metadata": {
      "needs_background": "light"
     },
     "output_type": "display_data"
    }
   ],
   "source": [
    "# Euler method with python\n",
    "\n",
    "def euler(p0, t, k):\n",
    "    \n",
    "    dt = t[1]-t[0] # time increment\n",
    "    N = len(t) # number of timepoints\n",
    "    p = np.ones(N)*p0\n",
    "\n",
    "    for j in range(N-1):\n",
    "        p[j+1] = -k*p[j]*dt + p[j]\n",
    "        \n",
    "    return(p)\n",
    "\n",
    "time = np.linspace(0,10,50)\n",
    "p0 = 1.0\n",
    "k = 1\n",
    "p = euler(p0,time,k)\n",
    "plt.plot(time,p); plt.xlabel('t'); plt.ylabel('p(t)'); plt.show()"
   ]
  },
  {
   "cell_type": "markdown",
   "metadata": {},
   "source": [
    "In python we can use the more efficient `odeint` function from scipy. This function takes as an input\n",
    "* initial values for all dependent variables (in this case, p)\n",
    "* the axis of independent variables (in this case, t)\n",
    "* parameters (in this case, k)\n",
    "* and a function which returns the gradient i.e. the differential equation to be solved.\n",
    "\n",
    "See below for how it's done:"
   ]
  },
  {
   "cell_type": "code",
   "execution_count": 4,
   "metadata": {},
   "outputs": [
    {
     "data": {
      "image/png": "[encoded data removed]",
      "text/plain": [
       "<Figure size 432x288 with 1 Axes>"
      ]
     },
     "metadata": {
      "needs_background": "light"
     },
     "output_type": "display_data"
    }
   ],
   "source": [
    "# Standard script to solve ODEs\n",
    "\n",
    "time = np.linspace(0,10,50)\n",
    "p0 = 1.0\n",
    "params = np.array([1.0])\n",
    "\n",
    "def grads(y, t, params):\n",
    "    p = y[0]    \n",
    "    k = params[0]\n",
    "   \n",
    "    derivs = [\n",
    "        -k*p\n",
    "    ]\n",
    "    return(derivs)\n",
    "\n",
    "sol = odeint(grads, p0, time, args=(params,))\n",
    "\n",
    "plt.plot(time,sol, label='scipy'); plt.xlabel('t'); plt.ylabel('p(t)'); \n",
    "plt.plot(time,euler(p0,time,params), label='euler'); plt.legend(); plt.show() # compare to our Euler method"
   ]
  },
  {
   "cell_type": "markdown",
   "metadata": {},
   "source": [
    "### Coupled ODEs: a simple enzyme model"
   ]
  },
  {
   "cell_type": "markdown",
   "metadata": {},
   "source": [
    "Consider the following reactions:\n",
    "\n",
    "\\begin{equation}\n",
    "E + A \\underset{k_{-1}}{\\stackrel{k_1}{\\rightleftharpoons}} EA \\overset{k_2}\\rightarrow P\n",
    "\\end{equation}\n",
    "\n",
    "The ODEs describing this complete set of reactions are coupled (NB $x$ is used as the symbol for the concentration of the enzyme-substrate complex). This means that the derivatives can depend on the instantaneous concentrations of the other metabolites, at each each time point:\n",
    "\n",
    "\\begin{align}\n",
    "\\dot{e} &= -k_1ea + k_{-1}x \\\\\n",
    "\\dot{a} &= -k_1ea + k_{-1}x \\\\\n",
    "\\dot{x} &= k_1ea - k_{-1}x - k_2x \\\\\n",
    "\\dot{p} &= k_2x\n",
    "\\end{align}\n",
    "\n",
    "Make sure you understand how to get these equations! To solve them is straightforward:"
   ]
  },
  {
   "cell_type": "code",
   "execution_count": 5,
   "metadata": {},
   "outputs": [
    {
     "data": {
      "image/png": "[encoded data removed]",
      "text/plain": [
       "<Figure size 432x288 with 1 Axes>"
      ]
     },
     "metadata": {
      "needs_background": "light"
     },
     "output_type": "display_data"
    }
   ],
   "source": [
    "time = np.linspace(0,2,100)\n",
    "\n",
    "e0 = 8.0\n",
    "a0 = 10.0\n",
    "x0 = 0.0\n",
    "p0 = 0.0\n",
    "\n",
    "kp1 = 100.0\n",
    "kn1 = 50.0\n",
    "kp2 = 1.0\n",
    "\n",
    "y0 = np.array([e0,a0,x0,p0])\n",
    "params = np.array([kp1,kn1,kp2])\n",
    "\n",
    "def grads(y, t, params):\n",
    "    e = y[0]\n",
    "    a = y[1]\n",
    "    x = y[2]\n",
    "    p = y[3]\n",
    "    \n",
    "    kp1 = params[0]\n",
    "    kn1 = params[1]\n",
    "    kp2 = params[2]\n",
    "   \n",
    "    derivs = [\n",
    "        -kp1*e*a + kn1*x,\n",
    "        -kp1*e*a + kn1*x,\n",
    "        kp1*e*a - kn1*x - kp2*x,\n",
    "        kp2*x\n",
    "    ]\n",
    "    return(derivs)\n",
    "\n",
    "sol = odeint(grads, y0, time, args=(params,))\n",
    "\n",
    "plt.plot(time,sol[:,0], label='e');\n",
    "plt.plot(time,sol[:,1], label='a');\n",
    "plt.plot(time,sol[:,2], label='x');\n",
    "plt.plot(time,sol[:,3], label='p');\n",
    "plt.xlabel('t'); plt.ylabel('concs'); plt.legend(); plt.show()"
   ]
  },
  {
   "cell_type": "markdown",
   "metadata": {},
   "source": [
    "## 3. Test your understanding\n",
    "\n",
    "Solve the following ODEs which simulate commonly-observed synthetic gene circuit behaviour, and plot their outputs. Which terms are variables, and which are parameters? What values of parameters are required for oscillations and switching behaviour for circuits 5 and 6? More sophisticated models for cell-free transcription and translation are given in the TXTL survey at https://github.com/nadanai263/TXTL-survey.\n",
    "\n",
    "1. Constitutive production\n",
    "\\begin{equation}\n",
    "\\dot{p} = \\alpha \n",
    "\\end{equation}\n",
    "\n",
    "2. Constitutive production and decay\n",
    "\\begin{equation}\n",
    "\\dot{p} = \\alpha - \\beta p \n",
    "\\end{equation}\n",
    "\n",
    "3. A activates B\n",
    "\\begin{align}\n",
    "\\dot{A} &= \\alpha - \\beta A \\\\\n",
    "\\dot{B} &= \\alpha\\frac{1}{1+\\left(\\frac{K}{A}\\right)^n} - \\beta B\n",
    "\\end{align}\n",
    "\n",
    "4. A represses B\n",
    "\\begin{align}\n",
    "\\dot{A} &= \\alpha - \\beta A \\\\\n",
    "\\dot{B} &= \\alpha\\frac{1}{1+\\left(\\frac{A}{K}\\right)^n} - \\beta B\n",
    "\\end{align}\n",
    "\n",
    "5. Toggle switch\n",
    "\\begin{align}\n",
    "\\dot{A} &= \\alpha\\frac{1}{1+\\left(\\frac{B}{K}\\right)^n} - \\beta A \\\\\n",
    "\\dot{B} &= \\alpha\\frac{1}{1+\\left(\\frac{A}{K}\\right)^n} - \\beta B\n",
    "\\end{align}\n",
    "\n",
    "6. Repressilator\n",
    "\\begin{align}\n",
    "\\dot{A} &= \\alpha\\frac{1}{1+\\left(\\frac{C}{K}\\right)^n} - \\beta A \\\\\n",
    "\\dot{B} &= \\alpha\\frac{1}{1+\\left(\\frac{A}{K}\\right)^n} - \\beta B \\\\\n",
    "\\dot{C} &= \\alpha\\frac{1}{1+\\left(\\frac{B}{K}\\right)^n} - \\beta C\n",
    "\\end{align}"
   ]
  },
  {
   "cell_type": "code",
   "execution_count": null,
   "metadata": {},
   "outputs": [],
   "source": []
  }
 ],
 "metadata": {
  "kernelspec": {
   "display_name": "MSc2020",
   "language": "python",
   "name": "msc2020"
  },
  "language_info": {
   "codemirror_mode": {
    "name": "ipython",
    "version": 3
   },
   "file_extension": ".py",
   "mimetype": "text/x-python",
   "name": "python",
   "nbconvert_exporter": "python",
   "pygments_lexer": "ipython3",
   "version": "3.7.7"
  },
  "latex_envs": {
   "LaTeX_envs_menu_present": true,
   "autoclose": true,
   "autocomplete": true,
   "bibliofile": "biblio.bib",
   "cite_by": "apalike",
   "current_citInitial": 1,
   "eqLabelWithNumbers": true,
   "eqNumInitial": 1,
   "hotkeys": {
    "equation": "Ctrl-E",
    "itemize": "Ctrl-I"
   },
   "labels_anchors": false,
   "latex_user_defs": false,
   "report_style_numbering": false,
   "user_envs_cfg": false
  }
 },
 "nbformat": 4,
 "nbformat_minor": 2
}
